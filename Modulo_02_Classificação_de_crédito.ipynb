{
  "cells": [
    {
      "cell_type": "code",
      "execution_count": 1,
      "metadata": {
        "id": "xfgCtVuR-d-e"
      },
      "outputs": [],
      "source": [
        "import pandas as pd\n",
        "\n",
        "import seaborn as sns\n",
        "import matplotlib.pyplot as plt\n",
        "\n",
        "from sklearn.model_selection import train_test_split\n",
        "from sklearn import metrics\n",
        "from sklearn.ensemble import RandomForestClassifier"
      ]
    },
    {
      "cell_type": "code",
      "execution_count": null,
      "metadata": {
        "id": "9yRbx2Gk-d-f"
      },
      "outputs": [],
      "source": [
        "# Observe que demo01.csv está na mesma pasta que este notebook\n",
        "# do contrário, seria necessário indicar a pasta no nome do arquivo\n",
        "df = pd.read_csv('demo01.csv')\n",
        "print (\"Número de linhas e colunas da tabela: {}\".format(df.shape))\n",
        "\n",
        "df.head()"
      ]
    },
    {
      "cell_type": "code",
      "execution_count": 4,
      "metadata": {
        "colab": {
          "base_uri": "https://localhost:8080/"
        },
        "id": "X5pOuoID-d-g",
        "outputId": "65fd908b-d5cf-4de9-bc2d-b11fbd558311"
      },
      "outputs": [
        {
          "output_type": "stream",
          "name": "stdout",
          "text": [
            "False    16260\n",
            "True       390\n",
            "Name: mau, dtype: int64\n",
            "\n",
            "Taxa de inadimplentes:\n",
            "0.023423423423423424\n"
          ]
        }
      ],
      "source": [
        "print(df['mau'].value_counts())\n",
        "print(\"\\nTaxa de inadimplentes:\")\n",
        "print(df['mau'].mean())"
      ]
    },
    {
      "cell_type": "markdown",
      "metadata": {
        "id": "uDDC4DpU-d-h"
      },
      "source": [
        "### <span style=\"color:blue\">Tarefa 01 - gráfico de barras</span>\n",
        "<span style=\"color:blue\"> Com base no código da célula anterior, construa um gráfico de barras para pelo menos duas outras variáveis. \n",
        "**Dica:** Não tente usar as variáveis ```tempo_emprego``` e ```idade``` pois o gráfico de barras dessa forma como construímos não é adequado para elas. </span>"
      ]
    },
    {
      "cell_type": "code",
      "source": [
        "# usei a variável de quantidade de filhos \n",
        "var = 'qtd_filhos'\n",
        "grafico_barras = df[var].value_counts().plot.bar()"
      ],
      "metadata": {
        "colab": {
          "base_uri": "https://localhost:8080/",
          "height": 271
        },
        "id": "rCWEq7VdArrm",
        "outputId": "4f284c8f-e40b-4d54-e6a8-4fa707e05bda"
      },
      "execution_count": 6,
      "outputs": [
        {
          "output_type": "display_data",
          "data": {
            "text/plain": [
              "<Figure size 432x288 with 1 Axes>"
            ],
            "image/png": "[encoded data removed]"
          },
          "metadata": {
            "needs_background": "light"
          }
        }
      ]
    },
    {
      "cell_type": "code",
      "source": [
        "# a segunda variável escolhida foi a educação\n",
        "var = 'educacao'\n",
        "grafico_barras = df[var].value_counts().plot.bar()"
      ],
      "metadata": {
        "colab": {
          "base_uri": "https://localhost:8080/",
          "height": 408
        },
        "id": "_lnSikeyA9Fg",
        "outputId": "d6f53024-bae3-4a02-a563-f22175b52e73"
      },
      "execution_count": 7,
      "outputs": [
        {
          "output_type": "display_data",
          "data": {
            "text/plain": [
              "<Figure size 432x288 with 1 Axes>"
            ],
            "image/png": "[encoded data removed]"
          },
          "metadata": {
            "needs_background": "light"
          }
        }
      ]
    },
    {
      "cell_type": "code",
      "execution_count": 9,
      "metadata": {
        "colab": {
          "base_uri": "https://localhost:8080/",
          "height": 386
        },
        "id": "_bM9XZJ9-d-h",
        "outputId": "b9f16fde-c9ec-48f6-c7b9-88bd53cb1a16"
      },
      "outputs": [
        {
          "output_type": "display_data",
          "data": {
            "text/plain": [
              "<Figure size 432x288 with 0 Axes>"
            ]
          },
          "metadata": {}
        },
        {
          "output_type": "display_data",
          "data": {
            "text/plain": [
              "<Figure size 360x360 with 1 Axes>"
            ],
            "image/png": "[encoded data removed]"
          },
          "metadata": {
            "needs_background": "light"
          }
        }
      ],
      "source": [
        "plt.clf()\n",
        "var = \"tempo_emprego\"\n",
        "\n",
        "sns.displot(df, x = var, bins = 50)\n",
        "plt.show()"
      ]
    },
    {
      "cell_type": "code",
      "execution_count": 8,
      "metadata": {
        "id": "bK7mtLG3-d-i"
      },
      "outputs": [],
      "source": [
        "# Alterando valores de -1000 pra -2, para visualizar melhor no gráfico\n",
        "var = \"tempo_emprego\"\n",
        "df.loc[df[var]<0,var] = -2"
      ]
    },
    {
      "cell_type": "code",
      "execution_count": 10,
      "metadata": {
        "colab": {
          "base_uri": "https://localhost:8080/",
          "height": 386
        },
        "id": "UZp947SF-d-i",
        "outputId": "5b1e309c-c836-4d06-a7fe-997fe4a30533"
      },
      "outputs": [
        {
          "output_type": "display_data",
          "data": {
            "text/plain": [
              "<Figure size 432x288 with 0 Axes>"
            ]
          },
          "metadata": {}
        },
        {
          "output_type": "display_data",
          "data": {
            "text/plain": [
              "<Figure size 360x360 with 1 Axes>"
            ],
            "image/png": "[encoded data removed]"
          },
          "metadata": {
            "needs_background": "light"
          }
        }
      ],
      "source": [
        "plt.clf()\n",
        "var = \"tempo_emprego\"\n",
        "\n",
        "sns.displot(df, x = var, bins = 50)\n",
        "plt.show()"
      ]
    },
    {
      "cell_type": "markdown",
      "metadata": {
        "id": "DPzv-DEq-d-i"
      },
      "source": [
        "### <span style=\"color:blue\">Tarefa 02 - Histograma </span>\n",
        "<span style=\"color:blue\"> Com base no código da célula anterior, construa o histograma da variavel ```dade```.  </span>\n"
      ]
    },
    {
      "cell_type": "code",
      "source": [
        "plt.clf()\n",
        "var = \"idade\"\n",
        "\n",
        "sns.displot(df, x = var, bins = 50)\n",
        "plt.show()"
      ],
      "metadata": {
        "colab": {
          "base_uri": "https://localhost:8080/",
          "height": 386
        },
        "id": "Xne9RgwCBa0r",
        "outputId": "89606e17-c4be-4638-851f-1f9090b57832"
      },
      "execution_count": 11,
      "outputs": [
        {
          "output_type": "display_data",
          "data": {
            "text/plain": [
              "<Figure size 432x288 with 0 Axes>"
            ]
          },
          "metadata": {}
        },
        {
          "output_type": "display_data",
          "data": {
            "text/plain": [
              "<Figure size 360x360 with 1 Axes>"
            ],
            "image/png": "[encoded data removed]"
          },
          "metadata": {
            "needs_background": "light"
          }
        }
      ]
    },
    {
      "cell_type": "code",
      "execution_count": null,
      "metadata": {
        "id": "kuFgnZsE-d-i",
        "outputId": "f2df5f4e-e90e-4044-efd4-824ef0cb6793"
      },
      "outputs": [
        {
          "data": {
            "image/png": "[encoded data removed]",
            "text/plain": [
              "<Figure size 432x288 with 1 Axes>"
            ]
          },
          "metadata": {
            "needs_background": "light"
          },
          "output_type": "display_data"
        }
      ],
      "source": [
        "var = 'idade'\n",
        "cat_srs, bins = pd.qcut(df[var], 4, retbins=True)\n",
        "g = df.groupby(cat_srs)\n",
        "biv = g['mau'].mean()\n",
        "\n",
        "ax = biv.plot.line()\n",
        "ax.set_ylabel(\"Proporção de inadimplentes\")\n",
        "ticks = plt.xticks(range(len(biv.index.values)), biv.index.values, rotation = 90)"
      ]
    },
    {
      "cell_type": "markdown",
      "metadata": {
        "id": "Z18bks1E-d-j"
      },
      "source": [
        "### <span style=\"color:blue\">Tarefa 03 - Bivariada </span>\n",
        "<span style=\"color:blue\"> Com base no código da célula anterior, construa uma análise bivariada para a variável  ```tempo_emprego```.  Em seguida, insira uma célula de markdown e conclua se a variável parece discriminar risco de crédito. </span>\n",
        "\n"
      ]
    },
    {
      "cell_type": "code",
      "execution_count": 12,
      "metadata": {
        "colab": {
          "base_uri": "https://localhost:8080/",
          "height": 347
        },
        "id": "qucPm_Kx-d-j",
        "outputId": "789f9897-9bbc-43a6-fa60-b6650355ba99"
      },
      "outputs": [
        {
          "output_type": "display_data",
          "data": {
            "text/plain": [
              "<Figure size 432x288 with 1 Axes>"
            ],
            "image/png": "[encoded data removed]"
          },
          "metadata": {
            "needs_background": "light"
          }
        }
      ],
      "source": [
        "var = 'tempo_emprego'\n",
        "cat_srs, bins = pd.qcut(df[var], 4, retbins=True)\n",
        "g = df.groupby(cat_srs)\n",
        "biv = g['mau'].mean()\n",
        "\n",
        "ax = biv.plot.line()\n",
        "ax.set_ylabel(\"Proporção de inadimplentes\")\n",
        "ticks = plt.xticks(range(len(biv.index.values)), biv.index.values, rotation = 90)"
      ]
    },
    {
      "cell_type": "markdown",
      "metadata": {
        "id": "l_w_4coE-d-j"
      },
      "source": [
        "O gráfico acima descreve a proporção de inadimplentes analisados de acordo com o tempo de emprego. Assim, podemos verificar que quando mais tempo de emprego menor é a proporção de inadimplentes. \n"
      ]
    },
    {
      "cell_type": "code",
      "execution_count": null,
      "metadata": {
        "id": "HdnNrofn-d-j"
      },
      "outputs": [],
      "source": [
        "metadata = pd.DataFrame(df.dtypes, columns = ['tipo'])\n",
        "\n",
        "metadata['n_categorias'] = 0\n",
        "\n",
        "for var in metadata.index:\n",
        "    metadata.loc[var,'n_categorias'] = len(df.groupby([var]).size())\n",
        "    \n",
        "metadata"
      ]
    },
    {
      "cell_type": "code",
      "execution_count": 14,
      "metadata": {
        "id": "IAt4tDLW-d-k"
      },
      "outputs": [],
      "source": [
        "def convert_dummy(df, feature,rank=0):\n",
        "    pos = pd.get_dummies(df[feature], prefix=feature)\n",
        "    mode = df[feature].value_counts().index[rank]\n",
        "    biggest = feature + '_' + str(mode)\n",
        "    pos.drop([biggest],axis=1,inplace=True)\n",
        "    df.drop([feature],axis=1,inplace=True)\n",
        "    df=df.join(pos)\n",
        "    return df"
      ]
    },
    {
      "cell_type": "code",
      "execution_count": 15,
      "metadata": {
        "id": "zwi8km6G-d-k"
      },
      "outputs": [],
      "source": [
        "for var in metadata[metadata['tipo'] == 'object'].index:\n",
        "    df = convert_dummy(df, var)"
      ]
    },
    {
      "cell_type": "code",
      "execution_count": null,
      "metadata": {
        "id": "cCf36Wdl-d-k"
      },
      "outputs": [],
      "source": [
        "df"
      ]
    },
    {
      "cell_type": "code",
      "execution_count": 17,
      "metadata": {
        "id": "TjZOf0DZ-d-l"
      },
      "outputs": [],
      "source": [
        "# Tirando a v. resposta da base de treinamento\n",
        "x = df.drop(\"mau\",axis = 1)\n",
        "y = df[\"mau\"]\n",
        "\n",
        "# Tirando ID da base de treinamento e teste\n",
        "x_train, x_test, y_train, y_test = train_test_split(x, y)"
      ]
    },
    {
      "cell_type": "code",
      "source": [
        "# Treinar uma Random Forest com 5 árvores\n",
        "\n",
        "clf = RandomForestClassifier(n_estimators=3)\n",
        "clf.fit(x_train,y_train)"
      ],
      "metadata": {
        "id": "Bmbj_fNrFvNT"
      },
      "execution_count": null,
      "outputs": []
    },
    {
      "cell_type": "code",
      "execution_count": 19,
      "metadata": {
        "colab": {
          "base_uri": "https://localhost:8080/"
        },
        "id": "5JM6Ebua-d-l",
        "outputId": "14d8977c-8e63-444a-af20-3d0ab175d96a"
      },
      "outputs": [
        {
          "output_type": "stream",
          "name": "stdout",
          "text": [
            "Acurácia: 97.48%\n"
          ]
        }
      ],
      "source": [
        "# Calculando a acuracia\n",
        "\n",
        "y_pred = clf.predict(x_test)\n",
        "acc = metrics.accuracy_score(y_test, y_pred)\n",
        "print('Acurácia: {0:.2f}%'.format(acc*100))"
      ]
    },
    {
      "cell_type": "code",
      "execution_count": null,
      "metadata": {
        "id": "sQkMuITs-d-m"
      },
      "outputs": [],
      "source": [
        "# Matriz de confusão\n",
        "\n",
        "tab = pd.crosstab(index = y_pred, columns = y_test)\n",
        "print(tab[1][0]/(tab[1][0] + tab[0][0]))\n",
        "print(tab[1][1]/(tab[1][1] + tab[0][1]))\n",
        "tab"
      ]
    },
    {
      "cell_type": "markdown",
      "metadata": {
        "id": "OWKGl-RB-d-m"
      },
      "source": [
        "\n",
        "### <span style=\"color:blue\">Tarefa 04 - Bivariada </span>\n",
        "<span style=\"color:blue\"> Para essa tarefa, crie três células extras, copie nelas o código das três células anteriores (na mesma ordem) e altere o parâmetro ```n_estimators=``` da função ```RandomForestClassifier``` e insira uma quantidade maior que 3 nesse parâmetro. Rode as três células anteriores para calcular a acurácia do modelo e veja se você consegue uma acurácia melhor. </span>"
      ]
    },
    {
      "cell_type": "code",
      "execution_count": 21,
      "metadata": {
        "colab": {
          "base_uri": "https://localhost:8080/"
        },
        "id": "KbGO1xHr-d-m",
        "outputId": "efd885d0-198b-45e7-8faa-e5d6cbe1efb7"
      },
      "outputs": [
        {
          "output_type": "execute_result",
          "data": {
            "text/plain": [
              "RandomForestClassifier(n_estimators=9)"
            ]
          },
          "metadata": {},
          "execution_count": 21
        }
      ],
      "source": [
        "# Treinar uma Random Forest com 5 árvores\n",
        "# ultilizei o número 9\n",
        "clf = RandomForestClassifier(n_estimators=9)\n",
        "clf.fit(x_train,y_train)"
      ]
    },
    {
      "cell_type": "code",
      "execution_count": 22,
      "metadata": {
        "colab": {
          "base_uri": "https://localhost:8080/"
        },
        "id": "aN9LNwET-d-m",
        "outputId": "df74717d-6791-4860-e033-d1e941ac64dc"
      },
      "outputs": [
        {
          "output_type": "stream",
          "name": "stdout",
          "text": [
            "Acurácia: 97.65%\n"
          ]
        }
      ],
      "source": [
        "# Calculando a acuracia\n",
        "# acurácia foi 97,65%\n",
        "\n",
        "y_pred = clf.predict(x_test)\n",
        "acc = metrics.accuracy_score(y_test, y_pred)\n",
        "print('Acurácia: {0:.2f}%'.format(acc*100))"
      ]
    },
    {
      "cell_type": "code",
      "execution_count": 23,
      "metadata": {
        "colab": {
          "base_uri": "https://localhost:8080/",
          "height": 178
        },
        "id": "LCFa7Y63-d-m",
        "outputId": "5c2063c8-943d-4853-a5e9-5da14f9f487e"
      },
      "outputs": [
        {
          "output_type": "stream",
          "name": "stdout",
          "text": [
            "0.018226002430133656\n",
            "0.5208333333333334\n"
          ]
        },
        {
          "output_type": "execute_result",
          "data": {
            "text/plain": [
              "mau    False  True\n",
              "row_0             \n",
              "False   4040    75\n",
              "True      23    25"
            ],
            "text/html": [
              "\n",
              "  <div id=\"df-f9beb513-e958-454c-9b46-c733802f395a\">\n",
              "    <div class=\"colab-df-container\">\n",
              "      <div>\n",
              "<style scoped>\n",
              "    .dataframe tbody tr th:only-of-type {\n",
              "        vertical-align: middle;\n",
              "    }\n",
              "\n",
              "    .dataframe tbody tr th {\n",
              "        vertical-align: top;\n",
              "    }\n",
              "\n",
              "    .dataframe thead th {\n",
              "        text-align: right;\n",
              "    }\n",
              "</style>\n",
              "<table border=\"1\" class=\"dataframe\">\n",
              "  <thead>\n",
              "    <tr style=\"text-align: right;\">\n",
              "      <th>mau</th>\n",
              "      <th>False</th>\n",
              "      <th>True</th>\n",
              "    </tr>\n",
              "    <tr>\n",
              "      <th>row_0</th>\n",
              "      <th></th>\n",
              "      <th></th>\n",
              "    </tr>\n",
              "  </thead>\n",
              "  <tbody>\n",
              "    <tr>\n",
              "      <th>False</th>\n",
              "      <td>4040</td>\n",
              "      <td>75</td>\n",
              "    </tr>\n",
              "    <tr>\n",
              "      <th>True</th>\n",
              "      <td>23</td>\n",
              "      <td>25</td>\n",
              "    </tr>\n",
              "  </tbody>\n",
              "</table>\n",
              "</div>\n",
              "      <button class=\"colab-df-convert\" onclick=\"convertToInteractive('df-f9beb513-e958-454c-9b46-c733802f395a')\"\n",
              "              title=\"Convert this dataframe to an interactive table.\"\n",
              "              style=\"display:none;\">\n",
              "        \n",
              "  <svg xmlns=\"http://www.w3.org/2000/svg\" height=\"24px\"viewBox=\"0 0 24 24\"\n",
              "       width=\"24px\">\n",
              "    <path d=\"M0 0h24v24H0V0z\" fill=\"none\"/>\n",
              "    <path d=\"M18.56 5.44l.94 2.06.94-2.06 2.06-.94-2.06-.94-.94-2.06-.94 2.06-2.06.94zm-11 1L8.5 8.5l.94-2.06 2.06-.94-2.06-.94L8.5 2.5l-.94 2.06-2.06.94zm10 10l.94 2.06.94-2.06 2.06-.94-2.06-.94-.94-2.06-.94 2.06-2.06.94z\"/><path d=\"M17.41 7.96l-1.37-1.37c-.4-.4-.92-.59-1.43-.59-.52 0-1.04.2-1.43.59L10.3 9.45l-7.72 7.72c-.78.78-.78 2.05 0 2.83L4 21.41c.39.39.9.59 1.41.59.51 0 1.02-.2 1.41-.59l7.78-7.78 2.81-2.81c.8-.78.8-2.07 0-2.86zM5.41 20L4 18.59l7.72-7.72 1.47 1.35L5.41 20z\"/>\n",
              "  </svg>\n",
              "      </button>\n",
              "      \n",
              "  <style>\n",
              "    .colab-df-container {\n",
              "      display:flex;\n",
              "      flex-wrap:wrap;\n",
              "      gap: 12px;\n",
              "    }\n",
              "\n",
              "    .colab-df-convert {\n",
              "      background-color: #E8F0FE;\n",
              "      border: none;\n",
              "      border-radius: 50%;\n",
              "      cursor: pointer;\n",
              "      display: none;\n",
              "      fill: #1967D2;\n",
              "      height: 32px;\n",
              "      padding: 0 0 0 0;\n",
              "      width: 32px;\n",
              "    }\n",
              "\n",
              "    .colab-df-convert:hover {\n",
              "      background-color: #E2EBFA;\n",
              "      box-shadow: 0px 1px 2px rgba(60, 64, 67, 0.3), 0px 1px 3px 1px rgba(60, 64, 67, 0.15);\n",
              "      fill: #174EA6;\n",
              "    }\n",
              "\n",
              "    [theme=dark] .colab-df-convert {\n",
              "      background-color: #3B4455;\n",
              "      fill: #D2E3FC;\n",
              "    }\n",
              "\n",
              "    [theme=dark] .colab-df-convert:hover {\n",
              "      background-color: #434B5C;\n",
              "      box-shadow: 0px 1px 3px 1px rgba(0, 0, 0, 0.15);\n",
              "      filter: drop-shadow(0px 1px 2px rgba(0, 0, 0, 0.3));\n",
              "      fill: #FFFFFF;\n",
              "    }\n",
              "  </style>\n",
              "\n",
              "      <script>\n",
              "        const buttonEl =\n",
              "          document.querySelector('#df-f9beb513-e958-454c-9b46-c733802f395a button.colab-df-convert');\n",
              "        buttonEl.style.display =\n",
              "          google.colab.kernel.accessAllowed ? 'block' : 'none';\n",
              "\n",
              "        async function convertToInteractive(key) {\n",
              "          const element = document.querySelector('#df-f9beb513-e958-454c-9b46-c733802f395a');\n",
              "          const dataTable =\n",
              "            await google.colab.kernel.invokeFunction('convertToInteractive',\n",
              "                                                     [key], {});\n",
              "          if (!dataTable) return;\n",
              "\n",
              "          const docLinkHtml = 'Like what you see? Visit the ' +\n",
              "            '<a target=\"_blank\" href=https://colab.research.google.com/notebooks/data_table.ipynb>data table notebook</a>'\n",
              "            + ' to learn more about interactive tables.';\n",
              "          element.innerHTML = '';\n",
              "          dataTable['output_type'] = 'display_data';\n",
              "          await google.colab.output.renderOutput(dataTable, element);\n",
              "          const docLink = document.createElement('div');\n",
              "          docLink.innerHTML = docLinkHtml;\n",
              "          element.appendChild(docLink);\n",
              "        }\n",
              "      </script>\n",
              "    </div>\n",
              "  </div>\n",
              "  "
            ]
          },
          "metadata": {},
          "execution_count": 23
        }
      ],
      "source": [
        "# Matriz de confusão\n",
        "\n",
        "tab = pd.crosstab(index = y_pred, columns = y_test)\n",
        "print(tab[1][0]/(tab[1][0] + tab[0][0]))\n",
        "print(tab[1][1]/(tab[1][1] + tab[0][1]))\n",
        "tab"
      ]
    }
  ],
  "metadata": {
    "kernelspec": {
      "display_name": "Python 3",
      "language": "python",
      "name": "python3"
    },
    "language_info": {
      "codemirror_mode": {
        "name": "ipython",
        "version": 3
      },
      "file_extension": ".py",
      "mimetype": "text/x-python",
      "name": "python",
      "nbconvert_exporter": "python",
      "pygments_lexer": "ipython3",
      "version": "3.8.5"
    },
    "colab": {
      "provenance": []
    }
  },
  "nbformat": 4,
  "nbformat_minor": 0
}